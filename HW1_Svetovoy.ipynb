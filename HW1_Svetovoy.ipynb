{
  "nbformat": 4,
  "nbformat_minor": 0,
  "metadata": {
    "colab": {
      "provenance": [],
      "authorship_tag": "ABX9TyORIycmENS7lb1Nbip9o96L",
      "include_colab_link": true
    },
    "kernelspec": {
      "name": "python3",
      "display_name": "Python 3"
    },
    "language_info": {
      "name": "python"
    }
  },
  "cells": [
    {
      "cell_type": "markdown",
      "metadata": {
        "id": "view-in-github",
        "colab_type": "text"
      },
      "source": [
        "<a href=\"https://colab.research.google.com/github/lovxxs/TIPIS_HWs/blob/main/HW1_Svetovoy.ipynb\" target=\"_parent\"><img src=\"https://colab.research.google.com/assets/colab-badge.svg\" alt=\"Open In Colab\"/></a>"
      ]
    },
    {
      "cell_type": "code",
      "source": [
        "import pandas as pd\n",
        "import numpy as np"
      ],
      "metadata": {
        "id": "KwkjGKL-vb4A"
      },
      "execution_count": 55,
      "outputs": []
    },
    {
      "cell_type": "code",
      "execution_count": 56,
      "metadata": {
        "colab": {
          "base_uri": "https://localhost:8080/"
        },
        "id": "BWCbz9IEQxvH",
        "outputId": "32c63558-950b-426a-d37e-2cd9a5261d48"
      },
      "outputs": [
        {
          "output_type": "stream",
          "name": "stdout",
          "text": [
            "Requirement already satisfied: ucimlrepo in /usr/local/lib/python3.12/dist-packages (0.0.7)\n",
            "Requirement already satisfied: pandas>=1.0.0 in /usr/local/lib/python3.12/dist-packages (from ucimlrepo) (2.2.2)\n",
            "Requirement already satisfied: certifi>=2020.12.5 in /usr/local/lib/python3.12/dist-packages (from ucimlrepo) (2025.8.3)\n",
            "Requirement already satisfied: numpy>=1.26.0 in /usr/local/lib/python3.12/dist-packages (from pandas>=1.0.0->ucimlrepo) (2.0.2)\n",
            "Requirement already satisfied: python-dateutil>=2.8.2 in /usr/local/lib/python3.12/dist-packages (from pandas>=1.0.0->ucimlrepo) (2.9.0.post0)\n",
            "Requirement already satisfied: pytz>=2020.1 in /usr/local/lib/python3.12/dist-packages (from pandas>=1.0.0->ucimlrepo) (2025.2)\n",
            "Requirement already satisfied: tzdata>=2022.7 in /usr/local/lib/python3.12/dist-packages (from pandas>=1.0.0->ucimlrepo) (2025.2)\n",
            "Requirement already satisfied: six>=1.5 in /usr/local/lib/python3.12/dist-packages (from python-dateutil>=2.8.2->pandas>=1.0.0->ucimlrepo) (1.17.0)\n"
          ]
        }
      ],
      "source": [
        "!pip install ucimlrepo\n"
      ]
    },
    {
      "cell_type": "code",
      "source": [
        "from ucimlrepo import fetch_ucirepo\n",
        "\n",
        "adult = fetch_ucirepo(id=2)\n",
        "\n",
        "X = pd.concat([adult.data.features, adult.data.targets], axis = 1)\n",
        "\n",
        "print(X)\n"
      ],
      "metadata": {
        "colab": {
          "base_uri": "https://localhost:8080/"
        },
        "id": "qQOBr8OWu-xi",
        "outputId": "9022d1c1-7a48-4e68-d95e-8435b25d2074"
      },
      "execution_count": 57,
      "outputs": [
        {
          "output_type": "stream",
          "name": "stdout",
          "text": [
            "       age         workclass  fnlwgt  education  education-num  \\\n",
            "0       39         State-gov   77516  Bachelors             13   \n",
            "1       50  Self-emp-not-inc   83311  Bachelors             13   \n",
            "2       38           Private  215646    HS-grad              9   \n",
            "3       53           Private  234721       11th              7   \n",
            "4       28           Private  338409  Bachelors             13   \n",
            "...    ...               ...     ...        ...            ...   \n",
            "48837   39           Private  215419  Bachelors             13   \n",
            "48838   64               NaN  321403    HS-grad              9   \n",
            "48839   38           Private  374983  Bachelors             13   \n",
            "48840   44           Private   83891  Bachelors             13   \n",
            "48841   35      Self-emp-inc  182148  Bachelors             13   \n",
            "\n",
            "           marital-status         occupation    relationship  \\\n",
            "0           Never-married       Adm-clerical   Not-in-family   \n",
            "1      Married-civ-spouse    Exec-managerial         Husband   \n",
            "2                Divorced  Handlers-cleaners   Not-in-family   \n",
            "3      Married-civ-spouse  Handlers-cleaners         Husband   \n",
            "4      Married-civ-spouse     Prof-specialty            Wife   \n",
            "...                   ...                ...             ...   \n",
            "48837            Divorced     Prof-specialty   Not-in-family   \n",
            "48838             Widowed                NaN  Other-relative   \n",
            "48839  Married-civ-spouse     Prof-specialty         Husband   \n",
            "48840            Divorced       Adm-clerical       Own-child   \n",
            "48841  Married-civ-spouse    Exec-managerial         Husband   \n",
            "\n",
            "                     race     sex  capital-gain  capital-loss  hours-per-week  \\\n",
            "0                   White    Male          2174             0              40   \n",
            "1                   White    Male             0             0              13   \n",
            "2                   White    Male             0             0              40   \n",
            "3                   Black    Male             0             0              40   \n",
            "4                   Black  Female             0             0              40   \n",
            "...                   ...     ...           ...           ...             ...   \n",
            "48837               White  Female             0             0              36   \n",
            "48838               Black    Male             0             0              40   \n",
            "48839               White    Male             0             0              50   \n",
            "48840  Asian-Pac-Islander    Male          5455             0              40   \n",
            "48841               White    Male             0             0              60   \n",
            "\n",
            "      native-country  income  \n",
            "0      United-States   <=50K  \n",
            "1      United-States   <=50K  \n",
            "2      United-States   <=50K  \n",
            "3      United-States   <=50K  \n",
            "4               Cuba   <=50K  \n",
            "...              ...     ...  \n",
            "48837  United-States  <=50K.  \n",
            "48838  United-States  <=50K.  \n",
            "48839  United-States  <=50K.  \n",
            "48840  United-States  <=50K.  \n",
            "48841  United-States   >50K.  \n",
            "\n",
            "[48842 rows x 15 columns]\n"
          ]
        }
      ]
    },
    {
      "cell_type": "code",
      "source": [
        "count_columns = X.shape[1]\n",
        "print(\"Количество столбцов в наборе данных:\", count_columns)"
      ],
      "metadata": {
        "colab": {
          "base_uri": "https://localhost:8080/"
        },
        "id": "CGkppQ_WvMZs",
        "outputId": "7f9cac68-b9e4-4faa-fbc6-c844d8cd98c6"
      },
      "execution_count": 58,
      "outputs": [
        {
          "output_type": "stream",
          "name": "stdout",
          "text": [
            "Количество столбцов в наборе данных: 15\n"
          ]
        }
      ]
    },
    {
      "cell_type": "code",
      "source": [
        "spaces = [i for i in X.columns if X[i].isnull().sum() != 0]\n",
        "print(\"Столбцы, в которых есть пропуски данных:\")\n",
        "for i in spaces:\n",
        "  print(i, X[i].isnull().sum())"
      ],
      "metadata": {
        "colab": {
          "base_uri": "https://localhost:8080/"
        },
        "id": "v3sg7aEi0Nd5",
        "outputId": "2ba5c300-e9e2-499f-b405-9c169c4cfd44"
      },
      "execution_count": 84,
      "outputs": [
        {
          "output_type": "stream",
          "name": "stdout",
          "text": [
            "Столбцы, в которых есть пропуски данных:\n",
            "workclass 963\n",
            "occupation 966\n",
            "native-country 274\n"
          ]
        }
      ]
    },
    {
      "cell_type": "code",
      "source": [
        "print(\"Количество уникальных значений в столбце race: \", len(set(X['race'])))\n",
        "print(*set(X['race']))"
      ],
      "metadata": {
        "colab": {
          "base_uri": "https://localhost:8080/"
        },
        "id": "bOwoaxjG2k6P",
        "outputId": "60f00c58-dd2d-48ac-beeb-53c6271f4b7d"
      },
      "execution_count": 87,
      "outputs": [
        {
          "output_type": "stream",
          "name": "stdout",
          "text": [
            "Количество уникальных значений в столбце race:  5\n",
            "Amer-Indian-Eskimo White Other Asian-Pac-Islander Black\n"
          ]
        }
      ]
    },
    {
      "cell_type": "code",
      "source": [
        "X['hours-per-week'].median()"
      ],
      "metadata": {
        "colab": {
          "base_uri": "https://localhost:8080/"
        },
        "id": "uwF_KaLJ3mQI",
        "outputId": "9f912bb6-4c2c-4a32-c9c6-f4cd759789d9"
      },
      "execution_count": 32,
      "outputs": [
        {
          "output_type": "execute_result",
          "data": {
            "text/plain": [
              "40.0"
            ]
          },
          "metadata": {},
          "execution_count": 32
        }
      ]
    },
    {
      "cell_type": "code",
      "source": [
        "countAll, countFe = sum(X['income'] == '>50K'), 0\n",
        "print(\"Людей с ЗП выше 50к$:\", countAll)\n",
        "for i in range(X.shape[0]):\n",
        "  if X['income'][i] == '>50K' and X['sex'][i] == 'Female':\n",
        "    countFe += 1\n",
        "print(\"Количество женщин с ЗП выше 50к$:\", countFe)\n",
        "print(\"Количество мужчин с ЗП выше 50к$:\", countAll - countFe)"
      ],
      "metadata": {
        "colab": {
          "base_uri": "https://localhost:8080/"
        },
        "id": "ESxOsjYt4ZOf",
        "outputId": "fb7f632c-fb8c-4252-916b-61d19e560b8b"
      },
      "execution_count": 82,
      "outputs": [
        {
          "output_type": "stream",
          "name": "stdout",
          "text": [
            "Людей с ЗП выше 50к$: 7841\n",
            "Количество женщин с ЗП выше 50к$: 1179\n",
            "Количество мужчин с ЗП выше 50к$: 6662\n"
          ]
        }
      ]
    },
    {
      "cell_type": "code",
      "source": [
        "X.info()"
      ],
      "metadata": {
        "colab": {
          "base_uri": "https://localhost:8080/"
        },
        "id": "bobaIHiBCd0Q",
        "outputId": "6ba6fef0-fdef-41a9-c7aa-ee26ab6e712e"
      },
      "execution_count": 85,
      "outputs": [
        {
          "output_type": "stream",
          "name": "stdout",
          "text": [
            "<class 'pandas.core.frame.DataFrame'>\n",
            "RangeIndex: 48842 entries, 0 to 48841\n",
            "Data columns (total 15 columns):\n",
            " #   Column          Non-Null Count  Dtype \n",
            "---  ------          --------------  ----- \n",
            " 0   age             48842 non-null  int64 \n",
            " 1   workclass       47879 non-null  object\n",
            " 2   fnlwgt          48842 non-null  int64 \n",
            " 3   education       48842 non-null  object\n",
            " 4   education-num   48842 non-null  int64 \n",
            " 5   marital-status  48842 non-null  object\n",
            " 6   occupation      47876 non-null  object\n",
            " 7   relationship    48842 non-null  object\n",
            " 8   race            48842 non-null  object\n",
            " 9   sex             48842 non-null  object\n",
            " 10  capital-gain    48842 non-null  int64 \n",
            " 11  capital-loss    48842 non-null  int64 \n",
            " 12  hours-per-week  48842 non-null  int64 \n",
            " 13  native-country  48568 non-null  object\n",
            " 14  income          48842 non-null  object\n",
            "dtypes: int64(6), object(9)\n",
            "memory usage: 5.6+ MB\n"
          ]
        }
      ]
    },
    {
      "cell_type": "code",
      "source": [
        "for i in X.columns:\n",
        "  if X[i].isnull().sum() != 0:\n",
        "    mode_i = X[i].mode()[0]\n",
        "    X[i] = X[i].fillna(mode_i)\n",
        "X.info()\n",
        "\n"
      ],
      "metadata": {
        "colab": {
          "base_uri": "https://localhost:8080/"
        },
        "id": "jmgu8vUlCkyW",
        "outputId": "0ada72d2-dfd7-4028-9254-0da7e1b24b43"
      },
      "execution_count": 106,
      "outputs": [
        {
          "output_type": "stream",
          "name": "stdout",
          "text": [
            "<class 'pandas.core.frame.DataFrame'>\n",
            "RangeIndex: 48842 entries, 0 to 48841\n",
            "Data columns (total 15 columns):\n",
            " #   Column          Non-Null Count  Dtype \n",
            "---  ------          --------------  ----- \n",
            " 0   age             48842 non-null  int64 \n",
            " 1   workclass       48842 non-null  object\n",
            " 2   fnlwgt          48842 non-null  int64 \n",
            " 3   education       48842 non-null  object\n",
            " 4   education-num   48842 non-null  int64 \n",
            " 5   marital-status  48842 non-null  object\n",
            " 6   occupation      48842 non-null  object\n",
            " 7   relationship    48842 non-null  object\n",
            " 8   race            48842 non-null  object\n",
            " 9   sex             48842 non-null  object\n",
            " 10  capital-gain    48842 non-null  int64 \n",
            " 11  capital-loss    48842 non-null  int64 \n",
            " 12  hours-per-week  48842 non-null  int64 \n",
            " 13  native-country  48842 non-null  object\n",
            " 14  income          48842 non-null  object\n",
            "dtypes: int64(6), object(9)\n",
            "memory usage: 5.6+ MB\n"
          ]
        }
      ]
    },
    {
      "cell_type": "markdown",
      "source": [
        "1. 15\n",
        "2. Есть. В столбцах workclass, occupation и native-country\n",
        "3. 5\n",
        "4. 40.0\n",
        "5. Мужчин\n",
        "6. Можно было заполнить ключевым словом \"Non-define\" (не указан) или что-то в этом роде."
      ],
      "metadata": {
        "id": "GPOrwAOQHJqp"
      }
    }
  ]
}